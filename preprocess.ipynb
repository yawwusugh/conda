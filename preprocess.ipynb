{
 "cells": [
  {
   "cell_type": "code",
   "execution_count": null,
   "metadata": {},
   "outputs": [],
   "source": [
    "import geopandas as gpd\n",
    "from tqdm import tqdm\n",
    "import libpysal as lp\n",
    "import json"
   ]
  },
  {
   "cell_type": "markdown",
   "metadata": {},
   "source": [
    "### Get the data in the folder ./LCPS_data for pre-processing. Let's call this `retrieved data`."
   ]
  },
  {
   "cell_type": "code",
   "execution_count": null,
   "metadata": {
    "code_folding": []
   },
   "outputs": [],
   "source": [
    "def retrieve_data(sy):\n",
    "    \"\"\"\n",
    "    Retrieve data for a given school year (sy)\n",
    "    \"\"\"\n",
    "    data_dir = \"./LCPS_data\"\n",
    "    # Read the data files\n",
    "    schools = gpd.read_file('{}/LCPS_Sites_{}.shp'.format(data_dir, sy))\n",
    "    students = gpd.read_file('{}/Students_{}.shp'.format(data_dir, sy))\n",
    "    spas = gpd.read_file('{}/PlanningZones_{}.shp'.format(data_dir, sy))\n",
    "    \n",
    "    return schools, students, spas"
   ]
  },
  {
   "cell_type": "code",
   "execution_count": null,
   "metadata": {},
   "outputs": [],
   "source": [
    "sy = '2017_2018'"
   ]
  },
  {
   "cell_type": "code",
   "execution_count": null,
   "metadata": {},
   "outputs": [],
   "source": [
    "schools, students, spas = retrieve_data(sy)"
   ]
  },
  {
   "cell_type": "markdown",
   "metadata": {},
   "source": [
    "#### Print out a data instance of the SPAs, SCHOOLs and STUDENTs"
   ]
  },
  {
   "cell_type": "code",
   "execution_count": null,
   "metadata": {},
   "outputs": [],
   "source": [
    "for i, spa in spas.iterrows():\n",
    "    print(spa)\n",
    "    break"
   ]
  },
  {
   "cell_type": "code",
   "execution_count": null,
   "metadata": {
    "scrolled": false
   },
   "outputs": [],
   "source": [
    "for ind, school in schools.iterrows():\n",
    "    print(school)\n",
    "    break"
   ]
  },
  {
   "cell_type": "code",
   "execution_count": null,
   "metadata": {
    "scrolled": false
   },
   "outputs": [],
   "source": [
    "for index, student in students.iterrows():\n",
    "    print(student)\n",
    "    break"
   ]
  },
  {
   "cell_type": "markdown",
   "metadata": {},
   "source": [
    "### Printout the CRS of the SPAs, SCHOOLs and STUDENTs"
   ]
  },
  {
   "cell_type": "code",
   "execution_count": null,
   "metadata": {
    "scrolled": true
   },
   "outputs": [],
   "source": [
    "spas.crs    # Printout the CRS"
   ]
  },
  {
   "cell_type": "code",
   "execution_count": null,
   "metadata": {},
   "outputs": [],
   "source": [
    "spas.keys()"
   ]
  },
  {
   "cell_type": "code",
   "execution_count": null,
   "metadata": {},
   "outputs": [],
   "source": [
    "[x for x in list(spas.PLANNING_1) if x.startswith('DS07')]"
   ]
  },
  {
   "cell_type": "code",
   "execution_count": null,
   "metadata": {},
   "outputs": [],
   "source": [
    "students.crs"
   ]
  },
  {
   "cell_type": "code",
   "execution_count": null,
   "metadata": {},
   "outputs": [],
   "source": [
    "schools.crs"
   ]
  },
  {
   "cell_type": "markdown",
   "metadata": {},
   "source": [
    "### Read the data (supplied with the algorithm) in the folder './data'. Let's call this `new data`."
   ]
  },
  {
   "cell_type": "code",
   "execution_count": null,
   "metadata": {},
   "outputs": [],
   "source": [
    "spas_new = gpd.read_file('./data/SPAs.json')"
   ]
  },
  {
   "cell_type": "code",
   "execution_count": null,
   "metadata": {},
   "outputs": [],
   "source": [
    "[x for x in list(spas_new.SPA) if x.startswith('DS07')]"
   ]
  },
  {
   "cell_type": "code",
   "execution_count": null,
   "metadata": {},
   "outputs": [],
   "source": [
    "for i, s in spas_new.iterrows():\n",
    "    print(s)\n",
    "    break"
   ]
  },
  {
   "cell_type": "markdown",
   "metadata": {},
   "source": [
    "#### We have to modify the SPAs in `retrieved data` to match the entries in `new data`"
   ]
  },
  {
   "cell_type": "code",
   "execution_count": null,
   "metadata": {},
   "outputs": [],
   "source": [
    "fields = ['ELEM_1', 'MID_1', 'HIGH_1', 'DISTRICT_3', 'MID_2_2019', 'HIGH__2019',\n",
    "          'PLANNING_1', 'UTILITIE_2', 'STUDENTS_P', 'Field39', 'Field40']\n",
    "spas.drop(fields, axis=1, inplace=True)"
   ]
  },
  {
   "cell_type": "code",
   "execution_count": null,
   "metadata": {},
   "outputs": [],
   "source": [
    "# Adding new fields and renaming some existing ones\n",
    "spas = spas.rename(columns={\"INT_CODE\": \"MID_CODE\"})\n",
    "spas = spas.rename(columns={\"STDYAREA\": \"SPA\"})\n",
    "new_fields = ['ELEM_POP', 'MID_POP', 'HIGH_POP', 'TOT_POP']    # Population of ELEM, MID, HIGH and TOTAL\n",
    "\n",
    "for f in new_fields:\n",
    "    spas[f] = 0"
   ]
  },
  {
   "cell_type": "markdown",
   "metadata": {},
   "source": [
    "##### Do point-in-polygon test to find out number of students attending public schools in LCPS and residing within Loudoun county, VA."
   ]
  },
  {
   "cell_type": "code",
   "execution_count": null,
   "metadata": {},
   "outputs": [],
   "source": [
    "spas.columns"
   ]
  },
  {
   "cell_type": "code",
   "execution_count": null,
   "metadata": {},
   "outputs": [],
   "source": [
    "# spas['SPA'] = spas['STDYAREA_1']"
   ]
  },
  {
   "cell_type": "code",
   "execution_count": null,
   "metadata": {},
   "outputs": [],
   "source": [
    "set(students['GRADE'])    # Possible values of grade"
   ]
  },
  {
   "cell_type": "code",
   "execution_count": null,
   "metadata": {
    "code_folding": []
   },
   "outputs": [],
   "source": [
    "count = 0\n",
    "others = 0\n",
    "for index, student in tqdm(students.iterrows()):\n",
    "    student_location = student.geometry\n",
    "    student_grade = student['GRADE']\n",
    "    legit = True\n",
    "    for ind, spa in spas.iterrows():\n",
    "        \n",
    "        if student_location.within(spa.geometry):\n",
    "            count += 1\n",
    "            if 0 < student_grade < 6 or student_grade == 13:    # ELEMENTARY School has grades KG-5\n",
    "                spas.at[ind, 'ELEM_POP'] = spas['ELEM_POP'][ind] + 1\n",
    "            elif 5 < student_grade < 9:    # MIDDLE School has grades 6-8\n",
    "                spas.at[ind, 'MID_POP'] = spas['MID_POP'][ind] + 1\n",
    "            elif 8 < student_grade < 13:    # HIGH School has grades 9-12\n",
    "                spas.at[ind, 'HIGH_POP'] = spas['HIGH_POP'][ind] + 1\n",
    "            else:\n",
    "                legit = False\n",
    "                others += 1\n",
    "#                 print(others)\n",
    "                \n",
    "            if legit:\n",
    "                spas.at[ind, 'TOT_POP'] = spas['TOT_POP'][ind] + 1\n",
    "                \n",
    "            break\n",
    "            \n",
    "total_students = len(students)\n"
   ]
  },
  {
   "cell_type": "code",
   "execution_count": null,
   "metadata": {},
   "outputs": [],
   "source": [
    "print('{}/{} students living inside LCPS\\' boundary are considered for redistricting'.format(count - others,\n",
    "                                                                                             total_students))\n",
    "print('{}/{} students living inside LCPS\\' boundary are ignored'.format(others, total_students))\n",
    "print('{}/{} students living outside LCPS\\' boundary are ignored'.format(total_students - count,\n",
    "                                                                         total_students))"
   ]
  },
  {
   "cell_type": "code",
   "execution_count": null,
   "metadata": {},
   "outputs": [],
   "source": [
    "count = 0\n",
    "others = 0\n",
    "for index, school in tqdm(schools.iterrows()):\n",
    "    school_location = school.geometry\n",
    "    legit = True\n",
    "    for ind, spa in spas.iterrows():\n",
    "        \n",
    "        if school_location.within(spa.geometry):\n",
    "            count += 1\n",
    "            if spa['STDYAREA_1']:\n",
    "                print(spa['STDYAREA_1'])\n",
    "                schools.at[index, 'SPA'] = str(spa['STDYAREA_1'])\n",
    "            else:\n",
    "                legit = False\n",
    "                others += 1\n",
    "                \n",
    "            if legit:\n",
    "                pass\n",
    "                \n",
    "            break\n",
    "#         assert 0, 'not contained'\n",
    "            \n"
   ]
  },
  {
   "cell_type": "code",
   "execution_count": null,
   "metadata": {},
   "outputs": [],
   "source": [
    "len(spas)"
   ]
  },
  {
   "cell_type": "code",
   "execution_count": null,
   "metadata": {},
   "outputs": [],
   "source": [
    "schools['SCHOOL_TYP'] = ''\n",
    "\n",
    "schools.loc[schools['CLASS'] == 'ELEMENTARY','SCHOOL_TYP'] = 'ES'\n",
    "\n",
    "schools.loc[schools['CLASS'] == 'MIDDLE','SCHOOL_TYP'] = 'MS'\n",
    "\n",
    "schools.loc[schools['CLASS'] == 'HIGH','SCHOOL_TYP'] = 'HS'"
   ]
  },
  {
   "cell_type": "code",
   "execution_count": null,
   "metadata": {},
   "outputs": [],
   "source": [
    "spas.keys()"
   ]
  },
  {
   "cell_type": "markdown",
   "metadata": {},
   "source": [
    "### Transform the CRS of the `retrieved data` to match `new data`. We need to project the shapefiles into a new coordinate system to ensure that the data you are working with uses common geometric projection. For more details refer to the [link](https://geopandas.org/projections.html)."
   ]
  },
  {
   "cell_type": "code",
   "execution_count": null,
   "metadata": {},
   "outputs": [],
   "source": [
    "new_crs = spas_new.crs"
   ]
  },
  {
   "cell_type": "code",
   "execution_count": null,
   "metadata": {},
   "outputs": [],
   "source": [
    "new_crs"
   ]
  },
  {
   "cell_type": "code",
   "execution_count": null,
   "metadata": {},
   "outputs": [],
   "source": [
    "spas = spas.to_crs(new_crs)"
   ]
  },
  {
   "cell_type": "code",
   "execution_count": null,
   "metadata": {
    "scrolled": true
   },
   "outputs": [],
   "source": [
    "schools['SCHOOL_TYP'].fillna('')"
   ]
  },
  {
   "cell_type": "code",
   "execution_count": null,
   "metadata": {},
   "outputs": [],
   "source": [
    "schools = schools.to_crs(new_crs)"
   ]
  },
  {
   "cell_type": "code",
   "execution_count": null,
   "metadata": {},
   "outputs": [],
   "source": [
    "# Check if the projections have been reprojected \n",
    "print(spas.crs, schools.crs)"
   ]
  },
  {
   "cell_type": "code",
   "execution_count": null,
   "metadata": {},
   "outputs": [],
   "source": [
    "spas.keys()"
   ]
  },
  {
   "cell_type": "code",
   "execution_count": null,
   "metadata": {},
   "outputs": [],
   "source": [
    "adjacency_matrix = dict(lp.weights.Rook.from_dataframe(spas, idVariable=\"STDYAREA_1\"))\n",
    "for key in adjacency_matrix:\n",
    "    adjacency_matrix[key] = list(adjacency_matrix[key].keys())\n",
    "with open(\"data/nbrlist_SPA.json\", \"w\") as fp:\n",
    "    json.dump(adjacency_matrix, fp)"
   ]
  },
  {
   "cell_type": "markdown",
   "metadata": {},
   "source": [
    "### Write out the updated data as geojson files"
   ]
  },
  {
   "cell_type": "code",
   "execution_count": null,
   "metadata": {},
   "outputs": [],
   "source": [
    "def write_data(schools, spas, sy):\n",
    "    \"\"\"\n",
    "    Retrieve data for a given school year (sy)\n",
    "    \"\"\"\n",
    "    data_dir = \"data\"\n",
    "    # Read the data files\n",
    "    schools.to_file('{}/Schools_{}.json'.format(data_dir, sy), driver='GeoJSON')\n",
    "    spas.to_file('{}/SPAs_{}.json'.format(data_dir, sy), driver='GeoJSON')\n"
   ]
  },
  {
   "cell_type": "code",
   "execution_count": null,
   "metadata": {},
   "outputs": [],
   "source": [
    "write_data(schools, spas, sy)"
   ]
  },
  {
   "cell_type": "code",
   "execution_count": null,
   "metadata": {},
   "outputs": [],
   "source": []
  }
 ],
 "metadata": {
  "kernelspec": {
   "name": "Python 3.6.8 64-bit",
   "display_name": "Python 3.6.8 64-bit",
   "metadata": {
    "interpreter": {
     "hash": "70605a1fb304697dff7efae3fb161f885ef762a0809e81d336224ed9d058e2a1"
    }
   }
  },
  "language_info": {
   "codemirror_mode": {
    "name": "ipython",
    "version": 3
   },
   "file_extension": ".py",
   "mimetype": "text/x-python",
   "name": "python",
   "nbconvert_exporter": "python",
   "pygments_lexer": "ipython3",
   "version": "3.6.8-final"
  }
 },
 "nbformat": 4,
 "nbformat_minor": 1
}